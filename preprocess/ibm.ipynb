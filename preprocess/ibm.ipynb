{
 "cells": [
  {
   "cell_type": "code",
   "execution_count": 1,
   "metadata": {},
   "outputs": [],
   "source": [
    "import os \n",
    "import pandas as pd"
   ]
  },
  {
   "cell_type": "code",
   "execution_count": 3,
   "metadata": {},
   "outputs": [],
   "source": [
    "with open(\"../data/ibm-2021.txt\" , 'r') as df:\n",
    "    lines =  df.readlines()"
   ]
  },
  {
   "cell_type": "code",
   "execution_count": 5,
   "metadata": {},
   "outputs": [
    {
     "data": {
      "text/plain": [
       "930"
      ]
     },
     "execution_count": 5,
     "metadata": {},
     "output_type": "execute_result"
    }
   ],
   "source": [
    "transaction_id = []\n",
    "customer_id = []\n",
    "item_id  = []\n",
    "for i in lines:        \n",
    "    i = i.split()    \n",
    "    customer_id.append(int(i[0]))\n",
    "    transaction_id.append(int(i[1]))\n",
    "    item_id.append(int(i[2]))\n",
    "\n",
    "odf = pd.DataFrame({\n",
    "    \"transaction_id\":transaction_id ,\n",
    "    \"customer_id\": customer_id,\n",
    "    \"item_id\": item_id\n",
    "})\n",
    "odf.to_csv(\"../data/ibm_2021.csv\")\n",
    "len(odf.item_id.unique())"
   ]
  }
 ],
 "metadata": {
  "interpreter": {
   "hash": "7f44c189c9aad3e93346c36033c6ca62ae3e10a76210d582b013c06714864451"
  },
  "kernelspec": {
   "display_name": "Python 3.9.7 64-bit ('helloDM-UsP4MT0E': pipenv)",
   "name": "python3"
  },
  "language_info": {
   "codemirror_mode": {
    "name": "ipython",
    "version": 3
   },
   "file_extension": ".py",
   "mimetype": "text/x-python",
   "name": "python",
   "nbconvert_exporter": "python",
   "pygments_lexer": "ipython3",
   "version": "3.9.7"
  },
  "orig_nbformat": 4
 },
 "nbformat": 4,
 "nbformat_minor": 2
}
