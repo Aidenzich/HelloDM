{
 "cells": [
  {
   "cell_type": "code",
   "execution_count": 24,
   "metadata": {},
   "outputs": [],
   "source": [
    "import random\n",
    "import numpy as np\n",
    "import pandas as pd\n",
    "from sklearn.model_selection import train_test_split\n",
    "from sklearn.ensemble import GradientBoostingClassifier\n",
    "from sklearn.tree import DecisionTreeClassifier\n",
    "import matplotlib.pyplot as plt\n",
    "from sklearn.metrics import accuracy_score, f1_score, recall_score, precision_score"
   ]
  },
  {
   "cell_type": "code",
   "execution_count": 25,
   "metadata": {},
   "outputs": [],
   "source": [
    "def check_score(model, x_train, x_test, y_train, y_test):\n",
    "    if model == None:\n",
    "        return False\n",
    "    y_predict = model.predict(x_test)        \n",
    "    _model_score = model.score(x_train, y_train)\n",
    "    _accuracy_score = accuracy_score(y_test, y_predict)\n",
    "    _f1_score = f1_score(y_test, y_predict, average='binary')        \n",
    "    _precision_score = precision_score(y_test, y_predict)\n",
    "    _recall_score = recall_score(y_test, y_predict)\n",
    "    score_result = {\n",
    "        \"model_score\": _model_score,\n",
    "        \"accuracy_score\": _accuracy_score,\n",
    "        \"f1_score\": _f1_score,\n",
    "        \"precision_score\": _precision_score,\n",
    "        \"recall_score\": _recall_score            \n",
    "    }\n",
    "    \n",
    "    return score_result"
   ]
  },
  {
   "cell_type": "code",
   "execution_count": 26,
   "metadata": {},
   "outputs": [],
   "source": [
    "features_name = [\n",
    "    \"local_total\", \"foreign_total\", \"monthly_trade_vol\", \"stock_inventory_val\",\n",
    "    \"invest_type\", \"age\", \"KPI\", \"region\", \n",
    "    \"fund_type\", \"AUM\", \"local_or_foreign\", \"count_currency\",\n",
    "    \"chosen\", \"guaranteed\", \"realized_gain_loss\", \"unrealized_gain_loss\",    \n",
    "    'local_demand_deposit', 'local_fixed_deposit', 'deduction_num', 'value', 'value_diff'\n",
    "]"
   ]
  },
  {
   "cell_type": "code",
   "execution_count": 27,
   "metadata": {},
   "outputs": [],
   "source": [
    "datanum = 100000\n",
    "df_dict = {}\n",
    "df_dict[\"local_total\"] = [ random.randint(100, 10000000000)  for _ in range(datanum) ]\n",
    "df_dict[\"foreign_total\"] = [ random.randint(50,20000000000) for _ in range(datanum) ]\n",
    "df_dict[\"monthly_trade_vol\"] = [ random.randint(0,500000000) for _ in range(datanum) ]\n",
    "df_dict[\"stock_inventory_val\"] = [ random.randint(0,20000000) for _ in range(datanum) ]\n",
    "df_dict[\"invest_type\"] = [ random.randint(0,6000000) for _ in range(datanum) ]\n",
    "df_dict[\"age\"] = [ random.randint(0,100) for _ in range(datanum) ]\n",
    "df_dict[\"KPI\"] = [ random.randint(1,4500) for _ in range(datanum) ]\n",
    "df_dict[\"region\"] = [ random.randint(1,248) for _ in range(datanum) ]\n",
    "df_dict[\"fund_type\"] = [ random.randint(1,8) for _ in range(datanum) ]\n",
    "df_dict[\"guaranteed\"] = [ random.randint(0,1) for _ in range(datanum) ]\n",
    "df_dict[\"realized_gain_loss\"] = [ random.randint(0,15) for _ in range(datanum) ]\n",
    "df_dict[\"unrealized_gain_loss\"] = [ random.randint(0,20000) for _ in range(datanum) ]\n",
    "df_dict[\"local_demand_deposit\"] = [ random.randint(0,20000) for _ in range(datanum) ]\n",
    "df_dict[\"local_fixed_deposit\"] = [ random.randint(0,20000) for _ in range(datanum) ]\n",
    "df_dict[\"deduction_num\"] = [ random.randint(0,20000) for _ in range(datanum) ]\n",
    "df_dict[\"value\"] = [ random.randint(0,700) for _ in range(datanum) ]\n",
    "df_dict[\"value_diff\"] = [ random.randint(0,755) for _ in range(datanum) ]"
   ]
  },
  {
   "cell_type": "code",
   "execution_count": 28,
   "metadata": {},
   "outputs": [],
   "source": [
    "df = pd.DataFrame(df_dict)"
   ]
  },
  {
   "cell_type": "code",
   "execution_count": 29,
   "metadata": {},
   "outputs": [],
   "source": [
    "df['rule_value'] =  ((df.local_total / df.value) + (df.local_demand_deposit ** 2) - (df.guaranteed ** 1.5 ** df.value_diff)) /df.foreign_total + random.random()\n",
    "df['rule_value'] = (df['rule_value'] > 0.097) & (df['rule_value'] < 1.2).astype(int)"
   ]
  },
  {
   "cell_type": "code",
   "execution_count": 30,
   "metadata": {},
   "outputs": [
    {
     "name": "stdout",
     "output_type": "stream",
     "text": [
      "      Iter       Train Loss   Remaining Time \n",
      "         1           0.0917           46.44s\n",
      "         2           0.0826           45.26s\n",
      "         3           0.0759           45.01s\n",
      "         4           0.0694           45.04s\n",
      "         5           0.0650           44.60s\n",
      "         6           0.0607           44.30s\n",
      "         7           0.0562           43.96s\n",
      "         8           0.0526           43.57s\n",
      "         9           0.0496           43.28s\n",
      "        10           0.0470           43.02s\n",
      "        20           0.0305           40.47s\n",
      "        30           0.0228           38.04s\n",
      "        40           0.0187           35.83s\n",
      "        50           0.0161           33.57s\n",
      "        60           0.0145           31.31s\n",
      "        70           0.0131           29.05s\n",
      "        80           0.0120           26.82s\n",
      "        90           0.0113           24.58s\n",
      "       100           0.0105           22.33s\n",
      "       200           0.0062            0.00s\n"
     ]
    },
    {
     "data": {
      "text/plain": [
       "{'model_score': 0.9995625,\n",
       " 'accuracy_score': 0.99815,\n",
       " 'f1_score': 0.999056483488461,\n",
       " 'precision_score': 0.9988272486232919,\n",
       " 'recall_score': 0.9992858235984288}"
      ]
     },
     "execution_count": 30,
     "metadata": {},
     "output_type": "execute_result"
    }
   ],
   "source": [
    "x = df.drop(columns=['rule_value'])\n",
    "y = df['rule_value']\n",
    "x_train, x_test, y_train, y_test = train_test_split(x, y, test_size=0.2, random_state=42)\n",
    "clf = GradientBoostingClassifier(n_estimators=200, max_depth=3, random_state=42, verbose=1)\n",
    "clf.fit(x_train, y_train)\n",
    "check_score(clf, x_train, x_test, y_train, y_test)"
   ]
  },
  {
   "cell_type": "code",
   "execution_count": 31,
   "metadata": {},
   "outputs": [
    {
     "data": {
      "text/plain": [
       "{'model_score': 0.9919125,\n",
       " 'accuracy_score': 0.9912,\n",
       " 'f1_score': 0.9955179790159926,\n",
       " 'precision_score': 0.9939486397152301,\n",
       " 'recall_score': 0.997092281793603}"
      ]
     },
     "execution_count": 31,
     "metadata": {},
     "output_type": "execute_result"
    }
   ],
   "source": [
    "clf_tree = DecisionTreeClassifier(\n",
    "    max_features=14, \n",
    "    max_depth=3, \n",
    "    min_samples_split=10, \n",
    "    min_samples_leaf=10)\n",
    "clf_tree.fit(x_train, y_train)\n",
    "check_score(clf_tree, x_train, x_test, y_train, y_test)"
   ]
  },
  {
   "cell_type": "code",
   "execution_count": null,
   "metadata": {},
   "outputs": [],
   "source": [
    "clf_tree = DecisionTreeClassifier(\n",
    "    max_features=14, \n",
    "    max_depth=3, \n",
    "    min_samples_split=10, \n",
    "    min_samples_leaf=10)\n",
    "clf_tree.fit(x_train, y_train)\n",
    "check_score(clf_tree, x_train, x_test, y_train, y_test)"
   ]
  }
 ],
 "metadata": {
  "interpreter": {
   "hash": "df0893f56f349688326838aaeea0de204df53a132722cbd565e54b24a8fec5f6"
  },
  "kernelspec": {
   "display_name": "Python 3.8.0 64-bit",
   "language": "python",
   "name": "python3"
  },
  "language_info": {
   "codemirror_mode": {
    "name": "ipython",
    "version": 3
   },
   "file_extension": ".py",
   "mimetype": "text/x-python",
   "name": "python",
   "nbconvert_exporter": "python",
   "pygments_lexer": "ipython3",
   "version": "3.9.5"
  },
  "orig_nbformat": 4
 },
 "nbformat": 4,
 "nbformat_minor": 2
}
