{
 "cells": [
  {
   "cell_type": "code",
   "execution_count": 2,
   "metadata": {},
   "outputs": [],
   "source": [
    "import pandas as pd\n",
    "from util import association_rules, transaction_to_df, init_min_sup\n",
    "import matplotlib.pyplot as plts"
   ]
  },
  {
   "cell_type": "code",
   "execution_count": 3,
   "metadata": {},
   "outputs": [],
   "source": [
    "odf = pd.read_csv(\"../../data/ibm_2021.csv\")\n",
    "df = odf.groupby(['transaction_id']).item_id.apply(tuple).reset_index(name='item')\n",
    "df[\"length\"] = df.item.apply(lambda x: len(x))"
   ]
  },
  {
   "cell_type": "code",
   "execution_count": 4,
   "metadata": {},
   "outputs": [
    {
     "data": {
      "text/html": [
       "<div>\n",
       "<style scoped>\n",
       "    .dataframe tbody tr th:only-of-type {\n",
       "        vertical-align: middle;\n",
       "    }\n",
       "\n",
       "    .dataframe tbody tr th {\n",
       "        vertical-align: top;\n",
       "    }\n",
       "\n",
       "    .dataframe thead th {\n",
       "        text-align: right;\n",
       "    }\n",
       "</style>\n",
       "<table border=\"1\" class=\"dataframe\">\n",
       "  <thead>\n",
       "    <tr style=\"text-align: right;\">\n",
       "      <th></th>\n",
       "      <th>transaction_id</th>\n",
       "      <th>item</th>\n",
       "      <th>length</th>\n",
       "    </tr>\n",
       "  </thead>\n",
       "  <tbody>\n",
       "    <tr>\n",
       "      <th>0</th>\n",
       "      <td>1</td>\n",
       "      <td>(9192, 31651, 59344, 80129)</td>\n",
       "      <td>4</td>\n",
       "    </tr>\n",
       "    <tr>\n",
       "      <th>1</th>\n",
       "      <td>2</td>\n",
       "      <td>(26134, 57515, 60732, 74524)</td>\n",
       "      <td>4</td>\n",
       "    </tr>\n",
       "    <tr>\n",
       "      <th>2</th>\n",
       "      <td>3</td>\n",
       "      <td>(13453, 14148, 44776, 47548, 54782, 59246, 604...</td>\n",
       "      <td>11</td>\n",
       "    </tr>\n",
       "    <tr>\n",
       "      <th>3</th>\n",
       "      <td>4</td>\n",
       "      <td>(26134, 37096, 48693, 57515, 60732, 74524)</td>\n",
       "      <td>6</td>\n",
       "    </tr>\n",
       "    <tr>\n",
       "      <th>4</th>\n",
       "      <td>5</td>\n",
       "      <td>(2228, 33193, 52460, 55047, 56699, 84472)</td>\n",
       "      <td>6</td>\n",
       "    </tr>\n",
       "    <tr>\n",
       "      <th>...</th>\n",
       "      <td>...</td>\n",
       "      <td>...</td>\n",
       "      <td>...</td>\n",
       "    </tr>\n",
       "    <tr>\n",
       "      <th>4109</th>\n",
       "      <td>4110</td>\n",
       "      <td>(5098, 30417, 49799, 78824, 91652, 99106)</td>\n",
       "      <td>6</td>\n",
       "    </tr>\n",
       "    <tr>\n",
       "      <th>4110</th>\n",
       "      <td>4111</td>\n",
       "      <td>(2034, 3151, 14148, 14840, 15547, 17785, 44776...</td>\n",
       "      <td>13</td>\n",
       "    </tr>\n",
       "    <tr>\n",
       "      <th>4111</th>\n",
       "      <td>4112</td>\n",
       "      <td>(4818, 64405, 77158, 79449, 98246)</td>\n",
       "      <td>5</td>\n",
       "    </tr>\n",
       "    <tr>\n",
       "      <th>4112</th>\n",
       "      <td>4113</td>\n",
       "      <td>(7295, 44939, 45408, 72723, 83433)</td>\n",
       "      <td>5</td>\n",
       "    </tr>\n",
       "    <tr>\n",
       "      <th>4113</th>\n",
       "      <td>4114</td>\n",
       "      <td>(67822, 78202, 80314)</td>\n",
       "      <td>3</td>\n",
       "    </tr>\n",
       "  </tbody>\n",
       "</table>\n",
       "<p>4114 rows × 3 columns</p>\n",
       "</div>"
      ],
      "text/plain": [
       "      transaction_id                                               item  \\\n",
       "0                  1                        (9192, 31651, 59344, 80129)   \n",
       "1                  2                       (26134, 57515, 60732, 74524)   \n",
       "2                  3  (13453, 14148, 44776, 47548, 54782, 59246, 604...   \n",
       "3                  4         (26134, 37096, 48693, 57515, 60732, 74524)   \n",
       "4                  5          (2228, 33193, 52460, 55047, 56699, 84472)   \n",
       "...              ...                                                ...   \n",
       "4109            4110          (5098, 30417, 49799, 78824, 91652, 99106)   \n",
       "4110            4111  (2034, 3151, 14148, 14840, 15547, 17785, 44776...   \n",
       "4111            4112                 (4818, 64405, 77158, 79449, 98246)   \n",
       "4112            4113                 (7295, 44939, 45408, 72723, 83433)   \n",
       "4113            4114                              (67822, 78202, 80314)   \n",
       "\n",
       "      length  \n",
       "0          4  \n",
       "1          4  \n",
       "2         11  \n",
       "3          6  \n",
       "4          6  \n",
       "...      ...  \n",
       "4109       6  \n",
       "4110      13  \n",
       "4111       5  \n",
       "4112       5  \n",
       "4113       3  \n",
       "\n",
       "[4114 rows x 3 columns]"
      ]
     },
     "execution_count": 4,
     "metadata": {},
     "output_type": "execute_result"
    }
   ],
   "source": [
    "df.item.value_counts().sum()\n",
    "df.length.max()\n",
    "df"
   ]
  },
  {
   "cell_type": "code",
   "execution_count": 8,
   "metadata": {},
   "outputs": [
    {
     "data": {
      "text/plain": [
       "[<matplotlib.lines.Line2D at 0x136d5a520>]"
      ]
     },
     "execution_count": 8,
     "metadata": {},
     "output_type": "execute_result"
    },
    {
     "data": {
      "image/png": "[encoded data removed]",
      "text/plain": [
       "<Figure size 432x288 with 1 Axes>"
      ]
     },
     "metadata": {
      "needs_background": "light"
     },
     "output_type": "display_data"
    }
   ],
   "source": [
    "header = init_min_sup(df, 0)\n",
    "header.item.value_counts()\n",
    "plts.plot(header.item, header.support, 'bo')"
   ]
  },
  {
   "cell_type": "code",
   "execution_count": 10,
   "metadata": {},
   "outputs": [
    {
     "data": {
      "text/plain": [
       "[<matplotlib.lines.Line2D at 0x136eaef40>]"
      ]
     },
     "execution_count": 10,
     "metadata": {},
     "output_type": "execute_result"
    },
    {
     "data": {
      "image/png": "[encoded data removed]",
      "text/plain": [
       "<Figure size 432x288 with 1 Axes>"
      ]
     },
     "metadata": {
      "needs_background": "light"
     },
     "output_type": "display_data"
    }
   ],
   "source": [
    "header = init_min_sup(df, 0.01)\n",
    "header.item.value_counts()\n",
    "plts.plot(header.item, header.support, 'bo')"
   ]
  }
 ],
 "metadata": {
  "interpreter": {
   "hash": "7f44c189c9aad3e93346c36033c6ca62ae3e10a76210d582b013c06714864451"
  },
  "kernelspec": {
   "display_name": "Python 3.9.7 64-bit ('helloDM-UsP4MT0E': pipenv)",
   "name": "python3"
  },
  "language_info": {
   "codemirror_mode": {
    "name": "ipython",
    "version": 3
   },
   "file_extension": ".py",
   "mimetype": "text/x-python",
   "name": "python",
   "nbconvert_exporter": "python",
   "pygments_lexer": "ipython3",
   "version": "3.9.7"
  },
  "orig_nbformat": 4
 },
 "nbformat": 4,
 "nbformat_minor": 2
}
