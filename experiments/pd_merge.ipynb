{
 "cells": [
  {
   "cell_type": "code",
   "execution_count": 1,
   "source": [
    "import sys\n",
    "sys.path.append('../src')\n",
    "import pandas as pd\n",
    "from util import memory_usage, id2cat, get_cat2id\n"
   ],
   "outputs": [],
   "metadata": {}
  },
  {
   "cell_type": "code",
   "execution_count": 2,
   "source": [
    "u_list = []\n",
    "i_list = []\n",
    "for i in range(10000):\n",
    "    for j in ['Aiden', 'Frank', 'Terry', 'TechLead', 'Joma']:\n",
    "        u_list.append(j+str(i))\n",
    "\n",
    "for i in range(1000):\n",
    "    for j in ['Apple', 'Google', 'Facebook', 'Netflix', 'Amazon']:\n",
    "        i_list.append(j+str(i))"
   ],
   "outputs": [],
   "metadata": {}
  },
  {
   "cell_type": "code",
   "execution_count": 3,
   "source": [
    "\n",
    "\n",
    "users = pd.DataFrame({\n",
    "    'username':u_list\n",
    "})\n",
    "items = pd.DataFrame({\n",
    "    'itemname':i_list\n",
    "})"
   ],
   "outputs": [],
   "metadata": {}
  },
  {
   "cell_type": "code",
   "execution_count": 4,
   "source": [
    "# Set merge key\n",
    "users['k'] = 0\n",
    "items['k'] = 0"
   ],
   "outputs": [],
   "metadata": {}
  },
  {
   "cell_type": "code",
   "execution_count": 5,
   "source": [
    "# Use merge how=\"outer\"\n",
    "user_item_interaction = users.merge(items, how='outer')\n",
    "user_item_interaction\n",
    "## take 13.8s"
   ],
   "outputs": [
    {
     "output_type": "execute_result",
     "data": {
      "text/html": [
       "<div>\n",
       "<style scoped>\n",
       "    .dataframe tbody tr th:only-of-type {\n",
       "        vertical-align: middle;\n",
       "    }\n",
       "\n",
       "    .dataframe tbody tr th {\n",
       "        vertical-align: top;\n",
       "    }\n",
       "\n",
       "    .dataframe thead th {\n",
       "        text-align: right;\n",
       "    }\n",
       "</style>\n",
       "<table border=\"1\" class=\"dataframe\">\n",
       "  <thead>\n",
       "    <tr style=\"text-align: right;\">\n",
       "      <th></th>\n",
       "      <th>username</th>\n",
       "      <th>k</th>\n",
       "      <th>itemname</th>\n",
       "    </tr>\n",
       "  </thead>\n",
       "  <tbody>\n",
       "    <tr>\n",
       "      <th>0</th>\n",
       "      <td>Aiden0</td>\n",
       "      <td>0</td>\n",
       "      <td>Apple0</td>\n",
       "    </tr>\n",
       "    <tr>\n",
       "      <th>1</th>\n",
       "      <td>Aiden0</td>\n",
       "      <td>0</td>\n",
       "      <td>Google0</td>\n",
       "    </tr>\n",
       "    <tr>\n",
       "      <th>2</th>\n",
       "      <td>Aiden0</td>\n",
       "      <td>0</td>\n",
       "      <td>Facebook0</td>\n",
       "    </tr>\n",
       "    <tr>\n",
       "      <th>3</th>\n",
       "      <td>Aiden0</td>\n",
       "      <td>0</td>\n",
       "      <td>Netflix0</td>\n",
       "    </tr>\n",
       "    <tr>\n",
       "      <th>4</th>\n",
       "      <td>Aiden0</td>\n",
       "      <td>0</td>\n",
       "      <td>Amazon0</td>\n",
       "    </tr>\n",
       "    <tr>\n",
       "      <th>...</th>\n",
       "      <td>...</td>\n",
       "      <td>...</td>\n",
       "      <td>...</td>\n",
       "    </tr>\n",
       "    <tr>\n",
       "      <th>249999995</th>\n",
       "      <td>Joma9999</td>\n",
       "      <td>0</td>\n",
       "      <td>Apple999</td>\n",
       "    </tr>\n",
       "    <tr>\n",
       "      <th>249999996</th>\n",
       "      <td>Joma9999</td>\n",
       "      <td>0</td>\n",
       "      <td>Google999</td>\n",
       "    </tr>\n",
       "    <tr>\n",
       "      <th>249999997</th>\n",
       "      <td>Joma9999</td>\n",
       "      <td>0</td>\n",
       "      <td>Facebook999</td>\n",
       "    </tr>\n",
       "    <tr>\n",
       "      <th>249999998</th>\n",
       "      <td>Joma9999</td>\n",
       "      <td>0</td>\n",
       "      <td>Netflix999</td>\n",
       "    </tr>\n",
       "    <tr>\n",
       "      <th>249999999</th>\n",
       "      <td>Joma9999</td>\n",
       "      <td>0</td>\n",
       "      <td>Amazon999</td>\n",
       "    </tr>\n",
       "  </tbody>\n",
       "</table>\n",
       "<p>250000000 rows × 3 columns</p>\n",
       "</div>"
      ],
      "text/plain": [
       "           username  k     itemname\n",
       "0            Aiden0  0       Apple0\n",
       "1            Aiden0  0      Google0\n",
       "2            Aiden0  0    Facebook0\n",
       "3            Aiden0  0     Netflix0\n",
       "4            Aiden0  0      Amazon0\n",
       "...             ... ..          ...\n",
       "249999995  Joma9999  0     Apple999\n",
       "249999996  Joma9999  0    Google999\n",
       "249999997  Joma9999  0  Facebook999\n",
       "249999998  Joma9999  0   Netflix999\n",
       "249999999  Joma9999  0    Amazon999\n",
       "\n",
       "[250000000 rows x 3 columns]"
      ]
     },
     "metadata": {},
     "execution_count": 5
    }
   ],
   "metadata": {}
  },
  {
   "cell_type": "code",
   "execution_count": 6,
   "source": [
    "u2idx, u_cat = get_cat2id(users.username)\n",
    "i2idx, i_cat = get_cat2id(items.itemname)\n",
    "users.username = u_cat\n",
    "items.itemname = i_cat\n"
   ],
   "outputs": [],
   "metadata": {}
  },
  {
   "cell_type": "code",
   "execution_count": 7,
   "source": [
    "id2cat(u2idx, 49999)"
   ],
   "outputs": [
    {
     "output_type": "execute_result",
     "data": {
      "text/plain": [
       "'Terry9999'"
      ]
     },
     "metadata": {},
     "execution_count": 7
    }
   ],
   "metadata": {}
  },
  {
   "cell_type": "code",
   "execution_count": 12,
   "source": [
    "u2idx['Aiden0']\n",
    "id2cat(u2idx, 0)"
   ],
   "outputs": [
    {
     "output_type": "execute_result",
     "data": {
      "text/plain": [
       "'Aiden0'"
      ]
     },
     "metadata": {},
     "execution_count": 12
    }
   ],
   "metadata": {}
  },
  {
   "cell_type": "code",
   "execution_count": 9,
   "source": [
    "user_item_interaction_id =users.merge(items, how='outer')\n",
    "user_item_interaction_id\n",
    "## take 7.7s"
   ],
   "outputs": [
    {
     "output_type": "execute_result",
     "data": {
      "text/html": [
       "<div>\n",
       "<style scoped>\n",
       "    .dataframe tbody tr th:only-of-type {\n",
       "        vertical-align: middle;\n",
       "    }\n",
       "\n",
       "    .dataframe tbody tr th {\n",
       "        vertical-align: top;\n",
       "    }\n",
       "\n",
       "    .dataframe thead th {\n",
       "        text-align: right;\n",
       "    }\n",
       "</style>\n",
       "<table border=\"1\" class=\"dataframe\">\n",
       "  <thead>\n",
       "    <tr style=\"text-align: right;\">\n",
       "      <th></th>\n",
       "      <th>username</th>\n",
       "      <th>k</th>\n",
       "      <th>itemname</th>\n",
       "    </tr>\n",
       "  </thead>\n",
       "  <tbody>\n",
       "    <tr>\n",
       "      <th>0</th>\n",
       "      <td>0</td>\n",
       "      <td>0</td>\n",
       "      <td>1000</td>\n",
       "    </tr>\n",
       "    <tr>\n",
       "      <th>1</th>\n",
       "      <td>0</td>\n",
       "      <td>0</td>\n",
       "      <td>3000</td>\n",
       "    </tr>\n",
       "    <tr>\n",
       "      <th>2</th>\n",
       "      <td>0</td>\n",
       "      <td>0</td>\n",
       "      <td>2000</td>\n",
       "    </tr>\n",
       "    <tr>\n",
       "      <th>3</th>\n",
       "      <td>0</td>\n",
       "      <td>0</td>\n",
       "      <td>4000</td>\n",
       "    </tr>\n",
       "    <tr>\n",
       "      <th>4</th>\n",
       "      <td>0</td>\n",
       "      <td>0</td>\n",
       "      <td>0</td>\n",
       "    </tr>\n",
       "    <tr>\n",
       "      <th>...</th>\n",
       "      <td>...</td>\n",
       "      <td>...</td>\n",
       "      <td>...</td>\n",
       "    </tr>\n",
       "    <tr>\n",
       "      <th>249999995</th>\n",
       "      <td>29999</td>\n",
       "      <td>0</td>\n",
       "      <td>1999</td>\n",
       "    </tr>\n",
       "    <tr>\n",
       "      <th>249999996</th>\n",
       "      <td>29999</td>\n",
       "      <td>0</td>\n",
       "      <td>3999</td>\n",
       "    </tr>\n",
       "    <tr>\n",
       "      <th>249999997</th>\n",
       "      <td>29999</td>\n",
       "      <td>0</td>\n",
       "      <td>2999</td>\n",
       "    </tr>\n",
       "    <tr>\n",
       "      <th>249999998</th>\n",
       "      <td>29999</td>\n",
       "      <td>0</td>\n",
       "      <td>4999</td>\n",
       "    </tr>\n",
       "    <tr>\n",
       "      <th>249999999</th>\n",
       "      <td>29999</td>\n",
       "      <td>0</td>\n",
       "      <td>999</td>\n",
       "    </tr>\n",
       "  </tbody>\n",
       "</table>\n",
       "<p>250000000 rows × 3 columns</p>\n",
       "</div>"
      ],
      "text/plain": [
       "           username  k  itemname\n",
       "0                 0  0      1000\n",
       "1                 0  0      3000\n",
       "2                 0  0      2000\n",
       "3                 0  0      4000\n",
       "4                 0  0         0\n",
       "...             ... ..       ...\n",
       "249999995     29999  0      1999\n",
       "249999996     29999  0      3999\n",
       "249999997     29999  0      2999\n",
       "249999998     29999  0      4999\n",
       "249999999     29999  0       999\n",
       "\n",
       "[250000000 rows x 3 columns]"
      ]
     },
     "metadata": {},
     "execution_count": 9
    }
   ],
   "metadata": {}
  },
  {
   "cell_type": "code",
   "execution_count": 10,
   "source": [
    "u_cat"
   ],
   "outputs": [
    {
     "output_type": "execute_result",
     "data": {
      "text/plain": [
       "0            0\n",
       "1        10000\n",
       "2        40000\n",
       "3        30000\n",
       "4        20000\n",
       "         ...  \n",
       "49995     9999\n",
       "49996    19999\n",
       "49997    49999\n",
       "49998    39999\n",
       "49999    29999\n",
       "Length: 50000, dtype: int32"
      ]
     },
     "metadata": {},
     "execution_count": 10
    }
   ],
   "metadata": {}
  }
 ],
 "metadata": {
  "orig_nbformat": 4,
  "language_info": {
   "name": "python",
   "version": "3.9.7",
   "mimetype": "text/x-python",
   "codemirror_mode": {
    "name": "ipython",
    "version": 3
   },
   "pygments_lexer": "ipython3",
   "nbconvert_exporter": "python",
   "file_extension": ".py"
  },
  "kernelspec": {
   "name": "python3",
   "display_name": "Python 3.9.7 64-bit ('helloDM-UsP4MT0E': pipenv)"
  },
  "interpreter": {
   "hash": "877679338143c1a86541d6bd38c6f71d128770ecf491c110cba8f86e0a2d4ced"
  }
 },
 "nbformat": 4,
 "nbformat_minor": 2
}