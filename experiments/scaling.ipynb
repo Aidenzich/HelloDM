{
 "cells": [
  {
   "cell_type": "code",
   "execution_count": 12,
   "source": [
    "import pandas as pd\n",
    "import numpy as np\n",
    "# import feather\n",
    "from util import memory_usage, id2cat, get_cat2id\n",
    "\n"
   ],
   "outputs": [],
   "metadata": {}
  },
  {
   "cell_type": "code",
   "execution_count": null,
   "source": [
    "df = pd.read_csv('./data/shared_articles.csv')\n",
    "print(df.info(memory_usage=\"deep\"))\n",
    "print('======')\n",
    "df.memory_usage(deep=True)"
   ],
   "outputs": [],
   "metadata": {}
  },
  {
   "cell_type": "code",
   "execution_count": null,
   "source": [
    "d_int = df.select_dtypes(include=['int'])\n",
    "downint = d_int.apply(pd.to_numeric)\n",
    "print(memory_usage(d_int))\n",
    "print(memory_usage(downint))"
   ],
   "outputs": [],
   "metadata": {}
  },
  {
   "cell_type": "code",
   "execution_count": 34,
   "source": [
    "ap2idx, ap_cat = get_cat2id(df.authorPersonId)\n",
    "df.authorPersonId"
   ],
   "outputs": [
    {
     "output_type": "execute_result",
     "data": {
      "text/plain": [
       "0       4340306774493623681\n",
       "1       4340306774493623681\n",
       "2       4340306774493623681\n",
       "3       3891637997717104548\n",
       "4       4340306774493623681\n",
       "               ...         \n",
       "3117    3609194402293569455\n",
       "3118    6960073744377754728\n",
       "3119    1908339160857512799\n",
       "3120   -1393866732742189886\n",
       "3121    3891637997717104548\n",
       "Name: authorPersonId, Length: 3122, dtype: int64"
      ]
     },
     "metadata": {},
     "execution_count": 34
    }
   ],
   "metadata": {}
  },
  {
   "cell_type": "code",
   "execution_count": 27,
   "source": [
    "df.authorPersonId = ap_cat\n",
    "del ap_cat\n",
    "df.authorPersonId"
   ],
   "outputs": [
    {
     "output_type": "execute_result",
     "data": {
      "text/plain": [
       "0       195\n",
       "1       195\n",
       "2       195\n",
       "3       187\n",
       "4       195\n",
       "       ... \n",
       "3117    181\n",
       "3118    220\n",
       "3119    154\n",
       "3120    112\n",
       "3121    187\n",
       "Name: authorPersonId, Length: 3122, dtype: int16"
      ]
     },
     "metadata": {},
     "execution_count": 27
    }
   ],
   "metadata": {}
  },
  {
   "cell_type": "code",
   "execution_count": 12,
   "source": [
    "# ap2idx[4340306774493623681]\n",
    "id2cat(ap2idx, 112)"
   ],
   "outputs": [
    {
     "output_type": "execute_result",
     "data": {
      "text/plain": [
       "-1393866732742189886"
      ]
     },
     "metadata": {},
     "execution_count": 12
    }
   ],
   "metadata": {}
  },
  {
   "cell_type": "code",
   "execution_count": 38,
   "source": [
    "df.memory_usage(deep=True) # authorPersonId from 24976 to 6244"
   ],
   "outputs": [
    {
     "output_type": "execute_result",
     "data": {
      "text/plain": [
       "Index                   128\n",
       "timestamp             24976\n",
       "eventType            221737\n",
       "contentId             24976\n",
       "authorPersonId        24976\n",
       "authorSessionId       24976\n",
       "authorUserAgent      188872\n",
       "authorRegion         118264\n",
       "authorCountry        118264\n",
       "contentType          190453\n",
       "url                  447704\n",
       "title                422736\n",
       "text               27437586\n",
       "lang                 184198\n",
       "dtype: int64"
      ]
     },
     "metadata": {},
     "execution_count": 38
    }
   ],
   "metadata": {}
  },
  {
   "cell_type": "code",
   "execution_count": 33,
   "source": [
    "df.to_pickle('./data/sa.pkl')"
   ],
   "outputs": [],
   "metadata": {}
  },
  {
   "cell_type": "code",
   "execution_count": 15,
   "source": [
    "df_ftr.to_feather('./data/sa.ftr')"
   ],
   "outputs": [],
   "metadata": {}
  },
  {
   "cell_type": "code",
   "execution_count": 13,
   "source": [
    "df_ftr = pd.read_feather('./data/sa.ftr')"
   ],
   "outputs": [],
   "metadata": {}
  },
  {
   "cell_type": "code",
   "execution_count": 4,
   "source": [
    "df_pkl = pd.read_pickle('./data/sa.pkl')"
   ],
   "outputs": [],
   "metadata": {}
  },
  {
   "cell_type": "code",
   "execution_count": 5,
   "source": [
    "df_csv = pd.read_csv('./data/shared_articles.csv')"
   ],
   "outputs": [],
   "metadata": {}
  },
  {
   "cell_type": "code",
   "execution_count": 6,
   "source": [
    "df_ftr.info(memory_usage='deep')"
   ],
   "outputs": [
    {
     "output_type": "stream",
     "name": "stdout",
     "text": [
      "<class 'pandas.core.frame.DataFrame'>\n",
      "RangeIndex: 3122 entries, 0 to 3121\n",
      "Data columns (total 13 columns):\n",
      " #   Column           Non-Null Count  Dtype \n",
      "---  ------           --------------  ----- \n",
      " 0   timestamp        3122 non-null   int64 \n",
      " 1   eventType        3122 non-null   object\n",
      " 2   contentId        3122 non-null   int64 \n",
      " 3   authorPersonId   3122 non-null   int64 \n",
      " 4   authorSessionId  3122 non-null   int64 \n",
      " 5   authorUserAgent  680 non-null    object\n",
      " 6   authorRegion     680 non-null    object\n",
      " 7   authorCountry    680 non-null    object\n",
      " 8   contentType      3122 non-null   object\n",
      " 9   url              3122 non-null   object\n",
      " 10  title            3122 non-null   object\n",
      " 11  text             3122 non-null   object\n",
      " 12  lang             3122 non-null   object\n",
      "dtypes: int64(4), object(9)\n",
      "memory usage: 20.9 MB\n"
     ]
    }
   ],
   "metadata": {}
  },
  {
   "cell_type": "code",
   "execution_count": 7,
   "source": [
    "df_pkl.info(memory_usage='deep')"
   ],
   "outputs": [
    {
     "output_type": "stream",
     "name": "stdout",
     "text": [
      "<class 'pandas.core.frame.DataFrame'>\n",
      "RangeIndex: 3122 entries, 0 to 3121\n",
      "Data columns (total 13 columns):\n",
      " #   Column           Non-Null Count  Dtype \n",
      "---  ------           --------------  ----- \n",
      " 0   timestamp        3122 non-null   int64 \n",
      " 1   eventType        3122 non-null   object\n",
      " 2   contentId        3122 non-null   int64 \n",
      " 3   authorPersonId   3122 non-null   int64 \n",
      " 4   authorSessionId  3122 non-null   int64 \n",
      " 5   authorUserAgent  680 non-null    object\n",
      " 6   authorRegion     680 non-null    object\n",
      " 7   authorCountry    680 non-null    object\n",
      " 8   contentType      3122 non-null   object\n",
      " 9   url              3122 non-null   object\n",
      " 10  title            3122 non-null   object\n",
      " 11  text             3122 non-null   object\n",
      " 12  lang             3122 non-null   object\n",
      "dtypes: int64(4), object(9)\n",
      "memory usage: 20.9 MB\n"
     ]
    }
   ],
   "metadata": {}
  },
  {
   "cell_type": "code",
   "execution_count": 8,
   "source": [
    "df_csv.info(memory_usage='deep')"
   ],
   "outputs": [
    {
     "output_type": "stream",
     "name": "stdout",
     "text": [
      "<class 'pandas.core.frame.DataFrame'>\n",
      "RangeIndex: 3122 entries, 0 to 3121\n",
      "Data columns (total 13 columns):\n",
      " #   Column           Non-Null Count  Dtype \n",
      "---  ------           --------------  ----- \n",
      " 0   timestamp        3122 non-null   int64 \n",
      " 1   eventType        3122 non-null   object\n",
      " 2   contentId        3122 non-null   int64 \n",
      " 3   authorPersonId   3122 non-null   int64 \n",
      " 4   authorSessionId  3122 non-null   int64 \n",
      " 5   authorUserAgent  680 non-null    object\n",
      " 6   authorRegion     680 non-null    object\n",
      " 7   authorCountry    680 non-null    object\n",
      " 8   contentType      3122 non-null   object\n",
      " 9   url              3122 non-null   object\n",
      " 10  title            3122 non-null   object\n",
      " 11  text             3122 non-null   object\n",
      " 12  lang             3122 non-null   object\n",
      "dtypes: int64(4), object(9)\n",
      "memory usage: 20.9 MB\n"
     ]
    }
   ],
   "metadata": {}
  },
  {
   "cell_type": "code",
   "execution_count": 11,
   "source": [
    "df_csv"
   ],
   "outputs": [
    {
     "output_type": "execute_result",
     "data": {
      "text/html": [
       "<div>\n",
       "<style scoped>\n",
       "    .dataframe tbody tr th:only-of-type {\n",
       "        vertical-align: middle;\n",
       "    }\n",
       "\n",
       "    .dataframe tbody tr th {\n",
       "        vertical-align: top;\n",
       "    }\n",
       "\n",
       "    .dataframe thead th {\n",
       "        text-align: right;\n",
       "    }\n",
       "</style>\n",
       "<table border=\"1\" class=\"dataframe\">\n",
       "  <thead>\n",
       "    <tr style=\"text-align: right;\">\n",
       "      <th></th>\n",
       "      <th>timestamp</th>\n",
       "      <th>eventType</th>\n",
       "      <th>contentId</th>\n",
       "      <th>authorPersonId</th>\n",
       "      <th>authorSessionId</th>\n",
       "      <th>authorUserAgent</th>\n",
       "      <th>authorRegion</th>\n",
       "      <th>authorCountry</th>\n",
       "      <th>contentType</th>\n",
       "      <th>url</th>\n",
       "      <th>title</th>\n",
       "      <th>text</th>\n",
       "      <th>lang</th>\n",
       "    </tr>\n",
       "  </thead>\n",
       "  <tbody>\n",
       "    <tr>\n",
       "      <th>0</th>\n",
       "      <td>1459192779</td>\n",
       "      <td>CONTENT REMOVED</td>\n",
       "      <td>-6451309518266745024</td>\n",
       "      <td>4340306774493623681</td>\n",
       "      <td>8940341205206233829</td>\n",
       "      <td>NaN</td>\n",
       "      <td>NaN</td>\n",
       "      <td>NaN</td>\n",
       "      <td>HTML</td>\n",
       "      <td>http://www.nytimes.com/2016/03/28/business/dea...</td>\n",
       "      <td>Ethereum, a Virtual Currency, Enables Transact...</td>\n",
       "      <td>All of this work is still very early. The firs...</td>\n",
       "      <td>en</td>\n",
       "    </tr>\n",
       "    <tr>\n",
       "      <th>1</th>\n",
       "      <td>1459193988</td>\n",
       "      <td>CONTENT SHARED</td>\n",
       "      <td>-4110354420726924665</td>\n",
       "      <td>4340306774493623681</td>\n",
       "      <td>8940341205206233829</td>\n",
       "      <td>NaN</td>\n",
       "      <td>NaN</td>\n",
       "      <td>NaN</td>\n",
       "      <td>HTML</td>\n",
       "      <td>http://www.nytimes.com/2016/03/28/business/dea...</td>\n",
       "      <td>Ethereum, a Virtual Currency, Enables Transact...</td>\n",
       "      <td>All of this work is still very early. The firs...</td>\n",
       "      <td>en</td>\n",
       "    </tr>\n",
       "    <tr>\n",
       "      <th>2</th>\n",
       "      <td>1459194146</td>\n",
       "      <td>CONTENT SHARED</td>\n",
       "      <td>-7292285110016212249</td>\n",
       "      <td>4340306774493623681</td>\n",
       "      <td>8940341205206233829</td>\n",
       "      <td>NaN</td>\n",
       "      <td>NaN</td>\n",
       "      <td>NaN</td>\n",
       "      <td>HTML</td>\n",
       "      <td>http://cointelegraph.com/news/bitcoin-future-w...</td>\n",
       "      <td>Bitcoin Future: When GBPcoin of Branson Wins O...</td>\n",
       "      <td>The alarm clock wakes me at 8:00 with stream o...</td>\n",
       "      <td>en</td>\n",
       "    </tr>\n",
       "    <tr>\n",
       "      <th>3</th>\n",
       "      <td>1459194474</td>\n",
       "      <td>CONTENT SHARED</td>\n",
       "      <td>-6151852268067518688</td>\n",
       "      <td>3891637997717104548</td>\n",
       "      <td>-1457532940883382585</td>\n",
       "      <td>NaN</td>\n",
       "      <td>NaN</td>\n",
       "      <td>NaN</td>\n",
       "      <td>HTML</td>\n",
       "      <td>https://cloudplatform.googleblog.com/2016/03/G...</td>\n",
       "      <td>Google Data Center 360° Tour</td>\n",
       "      <td>We're excited to share the Google Data Center ...</td>\n",
       "      <td>en</td>\n",
       "    </tr>\n",
       "    <tr>\n",
       "      <th>4</th>\n",
       "      <td>1459194497</td>\n",
       "      <td>CONTENT SHARED</td>\n",
       "      <td>2448026894306402386</td>\n",
       "      <td>4340306774493623681</td>\n",
       "      <td>8940341205206233829</td>\n",
       "      <td>NaN</td>\n",
       "      <td>NaN</td>\n",
       "      <td>NaN</td>\n",
       "      <td>HTML</td>\n",
       "      <td>https://bitcoinmagazine.com/articles/ibm-wants...</td>\n",
       "      <td>IBM Wants to \"Evolve the Internet\" With Blockc...</td>\n",
       "      <td>The Aite Group projects the blockchain market ...</td>\n",
       "      <td>en</td>\n",
       "    </tr>\n",
       "    <tr>\n",
       "      <th>...</th>\n",
       "      <td>...</td>\n",
       "      <td>...</td>\n",
       "      <td>...</td>\n",
       "      <td>...</td>\n",
       "      <td>...</td>\n",
       "      <td>...</td>\n",
       "      <td>...</td>\n",
       "      <td>...</td>\n",
       "      <td>...</td>\n",
       "      <td>...</td>\n",
       "      <td>...</td>\n",
       "      <td>...</td>\n",
       "      <td>...</td>\n",
       "    </tr>\n",
       "    <tr>\n",
       "      <th>3117</th>\n",
       "      <td>1487946604</td>\n",
       "      <td>CONTENT SHARED</td>\n",
       "      <td>9213260650272029784</td>\n",
       "      <td>3609194402293569455</td>\n",
       "      <td>7144190892417579456</td>\n",
       "      <td>Mozilla/5.0 (Windows NT 10.0; WOW64) AppleWebK...</td>\n",
       "      <td>SP</td>\n",
       "      <td>BR</td>\n",
       "      <td>HTML</td>\n",
       "      <td>https://startupi.com.br/2017/02/liga-ventures-...</td>\n",
       "      <td>Conheça a Liga IoT, plataforma de inovação abe...</td>\n",
       "      <td>A Liga Ventures, aceleradora de startups espec...</td>\n",
       "      <td>pt</td>\n",
       "    </tr>\n",
       "    <tr>\n",
       "      <th>3118</th>\n",
       "      <td>1487947067</td>\n",
       "      <td>CONTENT SHARED</td>\n",
       "      <td>-3295913657316686039</td>\n",
       "      <td>6960073744377754728</td>\n",
       "      <td>-8193630595542572738</td>\n",
       "      <td>Mozilla/5.0 (Macintosh; Intel Mac OS X 10_12_3...</td>\n",
       "      <td>GA</td>\n",
       "      <td>US</td>\n",
       "      <td>HTML</td>\n",
       "      <td>https://thenextweb.com/apps/2017/02/14/amazon-...</td>\n",
       "      <td>Amazon takes on Skype and GoToMeeting with its...</td>\n",
       "      <td>Amazon has launched Chime, a video conferencin...</td>\n",
       "      <td>en</td>\n",
       "    </tr>\n",
       "    <tr>\n",
       "      <th>3119</th>\n",
       "      <td>1488223224</td>\n",
       "      <td>CONTENT SHARED</td>\n",
       "      <td>3618271604906293310</td>\n",
       "      <td>1908339160857512799</td>\n",
       "      <td>-183341653743161643</td>\n",
       "      <td>Mozilla/5.0 (Macintosh; Intel Mac OS X 10_12_0...</td>\n",
       "      <td>SP</td>\n",
       "      <td>BR</td>\n",
       "      <td>HTML</td>\n",
       "      <td>https://code.org/about/2016</td>\n",
       "      <td>Code.org 2016 Annual Report</td>\n",
       "      <td>February 9, 2017 - We begin each year with a l...</td>\n",
       "      <td>en</td>\n",
       "    </tr>\n",
       "    <tr>\n",
       "      <th>3120</th>\n",
       "      <td>1488300719</td>\n",
       "      <td>CONTENT SHARED</td>\n",
       "      <td>6607431762270322325</td>\n",
       "      <td>-1393866732742189886</td>\n",
       "      <td>2367029511384577082</td>\n",
       "      <td>Mozilla/5.0 (X11; Linux x86_64) AppleWebKit/53...</td>\n",
       "      <td>MG</td>\n",
       "      <td>BR</td>\n",
       "      <td>HTML</td>\n",
       "      <td>https://www.bloomberg.com/news/articles/2017-0...</td>\n",
       "      <td>JPMorgan Software Does in Seconds What Took La...</td>\n",
       "      <td>At JPMorgan Chase &amp; Co., a learning machine is...</td>\n",
       "      <td>en</td>\n",
       "    </tr>\n",
       "    <tr>\n",
       "      <th>3121</th>\n",
       "      <td>1488307871</td>\n",
       "      <td>CONTENT SHARED</td>\n",
       "      <td>4109618890343020064</td>\n",
       "      <td>3891637997717104548</td>\n",
       "      <td>-7416795577834806518</td>\n",
       "      <td>Mozilla/5.0 (X11; Linux x86_64) AppleWebKit/53...</td>\n",
       "      <td>SP</td>\n",
       "      <td>BR</td>\n",
       "      <td>HTML</td>\n",
       "      <td>https://www.acquia.com/blog/partner/2017-acqui...</td>\n",
       "      <td>The 2017 Acquia Partners of the Year</td>\n",
       "      <td>The Acquia Partner Awards Program is comprised...</td>\n",
       "      <td>en</td>\n",
       "    </tr>\n",
       "  </tbody>\n",
       "</table>\n",
       "<p>3122 rows × 13 columns</p>\n",
       "</div>"
      ],
      "text/plain": [
       "       timestamp        eventType            contentId       authorPersonId  \\\n",
       "0     1459192779  CONTENT REMOVED -6451309518266745024  4340306774493623681   \n",
       "1     1459193988   CONTENT SHARED -4110354420726924665  4340306774493623681   \n",
       "2     1459194146   CONTENT SHARED -7292285110016212249  4340306774493623681   \n",
       "3     1459194474   CONTENT SHARED -6151852268067518688  3891637997717104548   \n",
       "4     1459194497   CONTENT SHARED  2448026894306402386  4340306774493623681   \n",
       "...          ...              ...                  ...                  ...   \n",
       "3117  1487946604   CONTENT SHARED  9213260650272029784  3609194402293569455   \n",
       "3118  1487947067   CONTENT SHARED -3295913657316686039  6960073744377754728   \n",
       "3119  1488223224   CONTENT SHARED  3618271604906293310  1908339160857512799   \n",
       "3120  1488300719   CONTENT SHARED  6607431762270322325 -1393866732742189886   \n",
       "3121  1488307871   CONTENT SHARED  4109618890343020064  3891637997717104548   \n",
       "\n",
       "          authorSessionId                                    authorUserAgent  \\\n",
       "0     8940341205206233829                                                NaN   \n",
       "1     8940341205206233829                                                NaN   \n",
       "2     8940341205206233829                                                NaN   \n",
       "3    -1457532940883382585                                                NaN   \n",
       "4     8940341205206233829                                                NaN   \n",
       "...                   ...                                                ...   \n",
       "3117  7144190892417579456  Mozilla/5.0 (Windows NT 10.0; WOW64) AppleWebK...   \n",
       "3118 -8193630595542572738  Mozilla/5.0 (Macintosh; Intel Mac OS X 10_12_3...   \n",
       "3119  -183341653743161643  Mozilla/5.0 (Macintosh; Intel Mac OS X 10_12_0...   \n",
       "3120  2367029511384577082  Mozilla/5.0 (X11; Linux x86_64) AppleWebKit/53...   \n",
       "3121 -7416795577834806518  Mozilla/5.0 (X11; Linux x86_64) AppleWebKit/53...   \n",
       "\n",
       "     authorRegion authorCountry contentType  \\\n",
       "0             NaN           NaN        HTML   \n",
       "1             NaN           NaN        HTML   \n",
       "2             NaN           NaN        HTML   \n",
       "3             NaN           NaN        HTML   \n",
       "4             NaN           NaN        HTML   \n",
       "...           ...           ...         ...   \n",
       "3117           SP            BR        HTML   \n",
       "3118           GA            US        HTML   \n",
       "3119           SP            BR        HTML   \n",
       "3120           MG            BR        HTML   \n",
       "3121           SP            BR        HTML   \n",
       "\n",
       "                                                    url  \\\n",
       "0     http://www.nytimes.com/2016/03/28/business/dea...   \n",
       "1     http://www.nytimes.com/2016/03/28/business/dea...   \n",
       "2     http://cointelegraph.com/news/bitcoin-future-w...   \n",
       "3     https://cloudplatform.googleblog.com/2016/03/G...   \n",
       "4     https://bitcoinmagazine.com/articles/ibm-wants...   \n",
       "...                                                 ...   \n",
       "3117  https://startupi.com.br/2017/02/liga-ventures-...   \n",
       "3118  https://thenextweb.com/apps/2017/02/14/amazon-...   \n",
       "3119                        https://code.org/about/2016   \n",
       "3120  https://www.bloomberg.com/news/articles/2017-0...   \n",
       "3121  https://www.acquia.com/blog/partner/2017-acqui...   \n",
       "\n",
       "                                                  title  \\\n",
       "0     Ethereum, a Virtual Currency, Enables Transact...   \n",
       "1     Ethereum, a Virtual Currency, Enables Transact...   \n",
       "2     Bitcoin Future: When GBPcoin of Branson Wins O...   \n",
       "3                          Google Data Center 360° Tour   \n",
       "4     IBM Wants to \"Evolve the Internet\" With Blockc...   \n",
       "...                                                 ...   \n",
       "3117  Conheça a Liga IoT, plataforma de inovação abe...   \n",
       "3118  Amazon takes on Skype and GoToMeeting with its...   \n",
       "3119                        Code.org 2016 Annual Report   \n",
       "3120  JPMorgan Software Does in Seconds What Took La...   \n",
       "3121               The 2017 Acquia Partners of the Year   \n",
       "\n",
       "                                                   text lang  \n",
       "0     All of this work is still very early. The firs...   en  \n",
       "1     All of this work is still very early. The firs...   en  \n",
       "2     The alarm clock wakes me at 8:00 with stream o...   en  \n",
       "3     We're excited to share the Google Data Center ...   en  \n",
       "4     The Aite Group projects the blockchain market ...   en  \n",
       "...                                                 ...  ...  \n",
       "3117  A Liga Ventures, aceleradora de startups espec...   pt  \n",
       "3118  Amazon has launched Chime, a video conferencin...   en  \n",
       "3119  February 9, 2017 - We begin each year with a l...   en  \n",
       "3120  At JPMorgan Chase & Co., a learning machine is...   en  \n",
       "3121  The Acquia Partner Awards Program is comprised...   en  \n",
       "\n",
       "[3122 rows x 13 columns]"
      ]
     },
     "metadata": {},
     "execution_count": 11
    }
   ],
   "metadata": {}
  }
 ],
 "metadata": {
  "orig_nbformat": 4,
  "language_info": {
   "name": "python",
   "version": "3.9.7",
   "mimetype": "text/x-python",
   "codemirror_mode": {
    "name": "ipython",
    "version": 3
   },
   "pygments_lexer": "ipython3",
   "nbconvert_exporter": "python",
   "file_extension": ".py"
  },
  "kernelspec": {
   "name": "python3",
   "display_name": "Python 3.9.7 64-bit ('helloDM-UsP4MT0E': pipenv)"
  },
  "interpreter": {
   "hash": "877679338143c1a86541d6bd38c6f71d128770ecf491c110cba8f86e0a2d4ced"
  }
 },
 "nbformat": 4,
 "nbformat_minor": 2
}